{
 "cells": [
  {
   "cell_type": "markdown",
   "metadata": {},
   "source": [
    "# Create an Address on Testnet"
   ]
  },
  {
   "cell_type": "markdown",
   "metadata": {},
   "source": [
    "#### Create a testnet address using your own secret key\n",
    "#### (use your phone number if you can't think of anything)\n",
    "#### Record this secret key!"
   ]
  },
  {
   "cell_type": "code",
   "execution_count": null,
   "metadata": {},
   "outputs": [],
   "source": [
    "from ecc import G\n",
    "\n",
    "s_key = '72054646337205464633'\n",
    "\n",
    "from helper import double_sha256, encode_base58, hash160\n",
    "\n",
    "components = (\n",
    "    # (compressed, secret)\n",
    "    (True, 888**3),\n",
    "    (False, 321),\n",
    "    (False, 4242424242),\n",
    ")\n",
    "\n",
    "for compressed, secret in components:\n",
    "    \n",
    "\n",
    "# use your phone number if you can't think of anything\n",
    "\n",
    "# get the public point\n",
    "# if you completed the `address` method, just do the .address(testnet=True) method on the public point"
   ]
  }
 ],
 "metadata": {
  "kernelspec": {
   "display_name": "Python 3",
   "language": "python",
   "name": "python3"
  },
  "language_info": {
   "codemirror_mode": {
    "name": "ipython",
    "version": 3
   },
   "file_extension": ".py",
   "mimetype": "text/x-python",
   "name": "python",
   "nbconvert_exporter": "python",
   "pygments_lexer": "ipython3",
   "version": "3.6.4"
  }
 },
 "nbformat": 4,
 "nbformat_minor": 2
}
